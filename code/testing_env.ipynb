{
 "cells": [
  {
   "cell_type": "code",
   "execution_count": 1,
   "outputs": [
    {
     "ename": "NameError",
     "evalue": "name 'datetime' is not defined",
     "output_type": "error",
     "traceback": [
      "\u001B[1;31m---------------------------------------------------------------------------\u001B[0m",
      "\u001B[1;31mNameError\u001B[0m                                 Traceback (most recent call last)",
      "\u001B[1;32m~\\AppData\\Local\\Temp/ipykernel_14664/151640585.py\u001B[0m in \u001B[0;36m<module>\u001B[1;34m\u001B[0m\n\u001B[1;32m----> 1\u001B[1;33m \u001B[0mstart_date\u001B[0m \u001B[1;33m=\u001B[0m \u001B[0mdatetime\u001B[0m\u001B[1;33m.\u001B[0m\u001B[0mstrptime\u001B[0m\u001B[1;33m(\u001B[0m\u001B[1;34m'2014-01-01'\u001B[0m\u001B[1;33m)\u001B[0m\u001B[1;33m\u001B[0m\u001B[1;33m\u001B[0m\u001B[0m\n\u001B[0m\u001B[0;32m      2\u001B[0m \u001B[0mend_date\u001B[0m \u001B[1;33m=\u001B[0m \u001B[0mdatetime\u001B[0m\u001B[1;33m.\u001B[0m\u001B[0mstrptime\u001B[0m\u001B[1;33m(\u001B[0m\u001B[1;34m\"2014-01-30\"\u001B[0m\u001B[1;33m)\u001B[0m\u001B[1;33m\u001B[0m\u001B[1;33m\u001B[0m\u001B[0m\n\u001B[0;32m      3\u001B[0m \u001B[1;31m# Create farm index dictionary\u001B[0m\u001B[1;33m\u001B[0m\u001B[1;33m\u001B[0m\u001B[0m\n\u001B[0;32m      4\u001B[0m \u001B[0mfarm_dict\u001B[0m\u001B[1;33m,\u001B[0m \u001B[0mfarm_list\u001B[0m \u001B[1;33m=\u001B[0m \u001B[0mcreate_farm_dict\u001B[0m\u001B[1;33m(\u001B[0m\u001B[0mstart_date\u001B[0m\u001B[1;33m.\u001B[0m\u001B[0myear\u001B[0m\u001B[1;33m,\u001B[0m \u001B[0mend_date\u001B[0m\u001B[1;33m.\u001B[0m\u001B[0myear\u001B[0m\u001B[1;33m)\u001B[0m\u001B[1;33m\u001B[0m\u001B[1;33m\u001B[0m\u001B[0m\n\u001B[0;32m      5\u001B[0m \u001B[1;33m\u001B[0m\u001B[0m\n",
      "\u001B[1;31mNameError\u001B[0m: name 'datetime' is not defined"
     ]
    }
   ],
   "source": [
    "start_date = datetime.strptime('2014-01-01')\n",
    "end_date = datetime.strptime(\"2014-01-30\")\n",
    "# Create farm index dictionary\n",
    "farm_dict, farm_list = create_farm_dict(start_date.year, end_date.year)"
   ],
   "metadata": {
    "collapsed": false,
    "pycharm": {
     "name": "#%%\n"
    }
   }
  },
  {
   "cell_type": "code",
   "execution_count": null,
   "outputs": [],
   "source": [
    "    curr_date = start_date\n",
    "    infected_farm_list = []\n",
    "    infected_pig_list = []\n",
    "\n",
    "    print(f\"run: {curr_run}\")\n",
    "\n",
    "    # Generate random index farm\n",
    "    index_case, inf_tvd = fun.set_index_case(farm_list)\n",
    "\n",
    "    # Create simulation data array\n",
    "    sim_data = fun.create_sim_data(index_case, farm_dict, farm_list)\n",
    "\n",
    "    # Create tour network dataframe for only concerned dates\n",
    "    tour_net = fun.create_tour_df(start_date, end_date)\n",
    "\n",
    "    # Create geo network array\n",
    "    geo_net = fun.create_geo_arr()"
   ],
   "metadata": {
    "collapsed": false,
    "pycharm": {
     "name": "#%%\n"
    }
   }
  },
  {
   "cell_type": "code",
   "execution_count": 6,
   "outputs": [],
   "source": [
    "import pandas as pd\n",
    "\n",
    "# Read data from file\n",
    "agis_data = pd.read_csv('../data/agis_data_lim.csv', encoding='latin-1')"
   ],
   "metadata": {
    "collapsed": false,
    "pycharm": {
     "name": "#%%\n"
    }
   }
  },
  {
   "cell_type": "code",
   "execution_count": 10,
   "outputs": [
    {
     "data": {
      "text/plain": "(69236, 9)"
     },
     "execution_count": 10,
     "metadata": {},
     "output_type": "execute_result"
    }
   ],
   "source": [
    "import numpy as np\n",
    "\n",
    "agis_data[agis_data['tot_pigs'].isna()]\n",
    "agis_data.shape"
   ],
   "metadata": {
    "collapsed": false,
    "pycharm": {
     "name": "#%%\n"
    }
   }
  },
  {
   "cell_type": "code",
   "execution_count": null,
   "outputs": [],
   "source": [
    "# Find any entries for infected farm in the geographic network\n",
    "        geo_inf_arr = [row for row in geo_data if row[0] == infected_tvd]\n",
    "\n",
    "        for row in geo_inf_arr:\n",
    "\n",
    "            # get the index of the destination farm (returns 0 if the farm is not active during the applicable year(s))\n",
    "            dest_geo_idx = farm_dict.get(row[1], 0)\n",
    "\n",
    "            if dest_geo_idx != 0:\n",
    "                # calculate number of pigs infected thru aerial spread\n",
    "                geo_inf_pigs = round(sim_data[dest_geo_idx, SU] * sim_data[infected_tvd_id, INF] / N * GEO_TRANS_RATE)\n",
    "\n",
    "                if geo_inf_pigs > 0:\n",
    "                    infected_pig_list.append([curr_date, 'g', geo_inf_pigs])\n",
    "                    # Update infected pig count for the indirect destination farm\n",
    "                    sim_data[dest_geo_idx, INF] = sim_data[dest_geo_idx, INF] + geo_inf_pigs\n",
    "\n",
    "    return sim_data, infected_pig_list"
   ],
   "metadata": {
    "collapsed": false,
    "pycharm": {
     "name": "#%%\n"
    }
   }
  }
 ],
 "metadata": {
  "kernelspec": {
   "display_name": "Python 3",
   "language": "python",
   "name": "python3"
  },
  "language_info": {
   "codemirror_mode": {
    "name": "ipython",
    "version": 2
   },
   "file_extension": ".py",
   "mimetype": "text/x-python",
   "name": "python",
   "nbconvert_exporter": "python",
   "pygments_lexer": "ipython2",
   "version": "2.7.6"
  },
  "pycharm": {
   "stem_cell": {
    "cell_type": "raw",
    "source": [
     "\n"
    ],
    "metadata": {
     "collapsed": false
    }
   }
  }
 },
 "nbformat": 4,
 "nbformat_minor": 0
}